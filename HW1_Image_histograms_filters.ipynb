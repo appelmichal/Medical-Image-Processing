{
 "cells": [
  {
   "cell_type": "markdown",
   "metadata": {
    "id": "qFsf1krHEe1s"
   },
   "source": [
    "# BM 336027 - Technion - Medical Image Processing\n",
    "\n",
    "\n",
    "## Homework 1 - Image Histograms & Filters \n",
    "---\n",
    "\n",
    "### <a style='color:red'> Due Date: 23.11.2022 </a>"
   ]
  },
  {
   "cell_type": "markdown",
   "metadata": {
    "id": "DhP_Y44pEe1u"
   },
   "source": [
    "---\n",
    "###  Agenda\n",
    "\n",
    "* [Exercise 0: Color Conversion](#Exercise-0)\n",
    "* [Exercise 1: Histogram Equalization](#Exercise-1)\n",
    "* [Exercise 2: Convolution & Filters](#Exercise-2)\n",
    "* [Exercise 3: Bilateral Filter](#Exercise-3)\n",
    "\n",
    "#### Use as many cells as you need"
   ]
  },
  {
   "cell_type": "markdown",
   "metadata": {
    "id": "HPujGQ_KEe1v"
   },
   "source": [
    "---\n",
    "### Students Information\n",
    "\n",
    "* Fill in\n",
    "\n",
    "\n",
    "|              Name |             Id |             email |\n",
    "|-------------------|----------------|------------------ |\n",
    "|  [Michal Appel] | [206058216] | [michal.appel@campuus.technion.ac.il] |\n"
   ]
  },
  {
   "cell_type": "markdown",
   "metadata": {
    "id": "QZhV6TocEe1w"
   },
   "source": [
    "---\n",
    "### Submission Guidelines\n",
    "\n",
    "* **No handwritten submissions.** \n",
    "* What you have to submit:\n",
    "    * You should submit this file only, with the name: `bm_hw1_id.ipynb`.\n",
    "    * No other file-types (`.py`, `.docx`...) will be accepted.\n",
    "* Submission on the course website (Moodle).\n"
   ]
  },
  {
   "cell_type": "markdown",
   "metadata": {
    "id": "8XTd363qfSBI"
   },
   "source": [
    "---"
   ]
  },
  {
   "cell_type": "code",
   "execution_count": null,
   "metadata": {
    "id": "CXGPnn9eMd6e"
   },
   "outputs": [],
   "source": [
    "# Google colab configuration\n",
    "from google.colab import drive\n",
    "drive.mount('/content/drive')\n"
   ]
  },
  {
   "cell_type": "code",
   "execution_count": null,
   "metadata": {
    "id": "KuoNTnAF3n9d"
   },
   "outputs": [],
   "source": [
    "import os\n",
    "os.chdir(\"drive/My Drive/impr/hw1\")"
   ]
  },
  {
   "cell_type": "code",
   "execution_count": null,
   "metadata": {
    "id": "oV-5zk6mEe1y"
   },
   "outputs": [],
   "source": [
    "# imports you will need\n",
    "import numpy as np\n",
    "import matplotlib.pyplot as plt\n",
    "%matplotlib inline"
   ]
  },
  {
   "cell_type": "markdown",
   "metadata": {
    "id": "xet8iI6TfSBJ"
   },
   "source": [
    "---"
   ]
  },
  {
   "cell_type": "markdown",
   "metadata": {
    "id": "crtIOs1NfSBK"
   },
   "source": [
    "### **Assignment Instructions**\n",
    "**In this assignment, you are allowed to use only basic numpy and matplotlib functions, and functions you implemented in other sections of the exercises**"
   ]
  },
  {
   "cell_type": "markdown",
   "metadata": {
    "id": "dQcFxjwWfSBK"
   },
   "source": [
    "---"
   ]
  },
  {
   "cell_type": "markdown",
   "metadata": {
    "id": "mvVeIzT6kaZ5"
   },
   "source": [
    "###  Exercise 0"
   ]
  },
  {
   "cell_type": "markdown",
   "metadata": {
    "id": "QmbcD2PXfSBK"
   },
   "source": [
    "In this exercise, we want to convert an RGB image to a grayscale image. "
   ]
  },
  {
   "cell_type": "markdown",
   "metadata": {
    "id": "VgqpSxuHfSBK"
   },
   "source": [
    "1. Implement the function `rgb2gray_mean` that takes in a three-channel RGB image in the form of a numpy array and returns a grayscale image which is the average value of the three channels (red, green, and blue) <br>\n",
    "    Ensure that your function can be configured with channels first (3, H, W) or last (H, W, 3). <br>\n",
    "    Write a description of your function and explain its inputs and output"
   ]
  },
  {
   "cell_type": "code",
   "execution_count": null,
   "metadata": {
    "id": "RPX-4mejfSBL"
   },
   "outputs": [],
   "source": [
    "def rgb2gray_mean(img: np.ndarray) -> np.ndarray:\n",
    "    '''\n",
    "    The function gets a three-channel RGB image, avargae the values of all the channels and return a grayscale.\n",
    "    \n",
    "    :param img: numpy array of RGB image\n",
    "    :return img_gray: numpy array of averaged grayscale image\n",
    "    '''\n",
    "    # ====== YOUR CODE: ======\n",
    "    channel_idx = img.shape.index(3)    \n",
    "    img_gray = img.mean(axis=channel_idx)\n",
    "    # ========================\n",
    "    \n",
    "    return img_gray\n"
   ]
  },
  {
   "cell_type": "markdown",
   "metadata": {
    "id": "CuJ53Zk3fSBL"
   },
   "source": [
    "2. Averaging all the channels may not be the best way to apply this conversion. A more \"human-oriented\" way is taking the weighted average of the three channels according to the following equation:\n",
    "$$ Y = 0.2125\\cdot R + 0.7154\\cdot G + 0.0721\\cdot B $$\n",
    "    look [here](https://www.baeldung.com/cs/convert-rgb-to-grayscale) for more information. <br>\n",
    "    \n",
    "    Implement the function `rgb2gray_weighted` that takes in a three-channel RGB image in the form of a numpy array and returns a grayscale image according to the above equation.<br>\n",
    "    Ensure that your function can be configured with channels first (3, H, W) or last (H, W, 3). <br>\n",
    "    Write a description of your function and explain its inputs and output."
   ]
  },
  {
   "cell_type": "code",
   "execution_count": null,
   "metadata": {
    "id": "ekTUtP9qkdQO"
   },
   "outputs": [],
   "source": [
    "def rgb2gray_weighted(img: np.ndarray) -> np.ndarray:\n",
    "    '''\n",
    "    The function gets a three-channel RGB image, calculating the weighted average of the channels and return a grayscale.\n",
    "    \n",
    "    :param img: numpy array of RGB image\n",
    "    :return img_gray: numpy array of weighted averaged grayscale image\n",
    "    '''\n",
    "    # ====== YOUR CODE: ======\n",
    "    channel_idx = img.shape.index(3)\n",
    "    \n",
    "    if channel_idx == 0:\n",
    "        r, g, b = img[0,:,:], img[1,:,:], img[2,:,:]\n",
    "        \n",
    "    elif channel_idx == 2:\n",
    "        r, g, b = img[:,:,0], img[:,:,1], img[:,:,2]\n",
    "\n",
    "    img_gray = 0.2125*r + 0.7154*g + 0.0721*b\n",
    "    # ========================\n",
    "    \n",
    "    return img_gray\n",
    "    "
   ]
  },
  {
   "cell_type": "markdown",
   "metadata": {
    "id": "v6udwKZKfSBM"
   },
   "source": [
    "3. Load the colored image 'retina.jpg' and convert it to grayscale using the above two functions you implemented.<br>\n",
    "    Display the colored image and the two grayscaled images in one figure and add titles."
   ]
  },
  {
   "cell_type": "code",
   "execution_count": null,
   "metadata": {
    "id": "40kOVruqfSBM"
   },
   "outputs": [],
   "source": [
    "# ====== YOUR CODE: ======\n",
    "rgb_img = plt.imread('images/retina.jpg')\n",
    "\n",
    "mean_gray_img = rgb2gray_mean(rgb_img)\n",
    "weighted_gray_img = rgb2gray_weighted(rgb_img)\n",
    "\n",
    "plt.figure(figsize=(15,15))\n",
    "plt.subplot(1,3,1)\n",
    "plt.title('Original image'), plt.imshow(rgb_img)\n",
    "plt.subplot(1,3,2)\n",
    "plt.title('Mean grayscale image'), plt.imshow(mean_gray_img, cmap='gray')\n",
    "plt.subplot(1,3,3)\n",
    "plt.title('Weighted grayscale image'), plt.imshow(weighted_gray_img, cmap='gray')\n",
    "\n",
    "plt.show()\n",
    "# ========================"
   ]
  },
  {
   "cell_type": "markdown",
   "metadata": {
    "id": "8HILxiONfSBN"
   },
   "source": [
    "---"
   ]
  },
  {
   "cell_type": "markdown",
   "metadata": {
    "id": "r3ak5FPMcOJE",
    "tags": []
   },
   "source": [
    "### Exercise 1\n",
    "\n",
    "In many cases, you might get images that do not utilize the entire range of pixel values. <br> \n",
    "In these cases, the images will look too dim or too bright.   "
   ]
  },
  {
   "cell_type": "markdown",
   "metadata": {
    "id": "WppLNy6KfSBN"
   },
   "source": [
    "First, we will implement a function that calculate the histogram of the image.<br>\n",
    "**Do not use the function plt.hist() in this exersice.**<br>"
   ]
  },
  {
   "cell_type": "markdown",
   "metadata": {
    "id": "kADqUG9wfSBN"
   },
   "source": [
    "1. Implement the function `img_hist_trivial` that receives an image as a uint8 numpy array and returns its histogram. Calcultat the histogram in the trivial way; going over the gray values and count them in the image.\n",
    "\n",
    "    Write a description of your function and explain its inputs and output.\n"
   ]
  },
  {
   "cell_type": "code",
   "execution_count": null,
   "metadata": {
    "id": "o4brysMLfSBN"
   },
   "outputs": [],
   "source": [
    "def img_hist_trivial(img: np.ndarray)-> np.ndarray:\n",
    "    \n",
    "    '''\n",
    "    The function gets an image and return its gray values histogram.\n",
    "    \n",
    "    :param img: uint8 numpy array of an image\n",
    "    :return hist: histogram with 256 cells with the number of pixels for each gray value. \n",
    "    '''\n",
    "        \n",
    "    # ====== YOUR CODE: ======\n",
    "    hist = np.zeros(256)\n",
    "    img_flat = img.flatten()\n",
    "    \n",
    "    for gray_value in range (256):\n",
    "        for cell in range (img_flat.size):\n",
    "            if img_flat[cell] == gray_value:\n",
    "                hist[gray_value] += 1\n",
    "    # ========================\n",
    "    \n",
    "    return hist\n"
   ]
  },
  {
   "cell_type": "markdown",
   "metadata": {
    "id": "td8bIe4SfSBO"
   },
   "source": [
    "2. What is the computational complexity of the above function? "
   ]
  },
  {
   "cell_type": "markdown",
   "metadata": {
    "id": "GwsBHKsgfSBO"
   },
   "source": [
    "**Answer:**"
   ]
  },
  {
   "cell_type": "markdown",
   "metadata": {
    "id": "wh9oiYElfSBO"
   },
   "source": [
    "In this case we are following each row (m) and each columns (n). we perform this action for 256 gray values. Therefore, the computational complexity of the above function is O(mXnX256)."
   ]
  },
  {
   "cell_type": "markdown",
   "metadata": {
    "id": "1cogfIr1fSBO"
   },
   "source": [
    "3. Implement the function `img_hist_advanced` that receives an image as a uint8 numpy array and returns its histogram. This time, calculate the histogram such the computational complexity is lower. Think of a way that you go over the image just once. \n"
   ]
  },
  {
   "cell_type": "code",
   "execution_count": null,
   "metadata": {
    "id": "1Ndd_vmHfSBO"
   },
   "outputs": [],
   "source": [
    "def img_hist_advanced(img: np.ndarray)-> np.ndarray:\n",
    "    \n",
    "    '''\n",
    "    The function gets an image and return its gray values histogram.\n",
    "    \n",
    "    :param img: uint8 numpy array of an image.\n",
    "    :return hist: histogram with 256 cells with the number of pixels for each gray value.\n",
    "    '''\n",
    "        \n",
    "    # ====== YOUR CODE: ======\n",
    "    hist = np.zeros(256)\n",
    "    img_flat = img.flatten()\n",
    "\n",
    "    for cell in range (img_flat.size):\n",
    "        gray_value = img_flat[cell]\n",
    "        hist[gray_value] += 1\n",
    "    # ========================\n",
    "    \n",
    "    return hist\n"
   ]
  },
  {
   "cell_type": "markdown",
   "metadata": {
    "id": "v9Tv7Q33fSBO"
   },
   "source": [
    "4. What is the computational complexity of the above function? \n"
   ]
  },
  {
   "cell_type": "markdown",
   "metadata": {
    "id": "viKR7uwgfSBP"
   },
   "source": [
    "**Answer:**"
   ]
  },
  {
   "cell_type": "markdown",
   "metadata": {
    "id": "YI2aDTESfSBP"
   },
   "source": [
    "We are going over the image size mXn once so the computational complexity is O(mXn)."
   ]
  },
  {
   "cell_type": "markdown",
   "metadata": {
    "id": "VD-d2wkwfSBP"
   },
   "source": [
    "5. Load the image 'chest.jpg'. Measure the execution time of the functions `img_hist_trivial` and `img_hist_advanced` on that image.\n"
   ]
  },
  {
   "cell_type": "code",
   "execution_count": null,
   "metadata": {
    "id": "p_Q4lqolfSBP"
   },
   "outputs": [],
   "source": [
    "# ====== YOUR CODE: ======\n",
    "import timeit\n",
    "img = plt.imread('images/chest.jpg')\n",
    "%timeit img_hist_trivial(img)\n",
    "%timeit img_hist_advanced (img)\n",
    "# ========================"
   ]
  },
  {
   "cell_type": "markdown",
   "metadata": {
    "id": "7WOZH51OfSBP"
   },
   "source": [
    "6. Get the histogram of the chest image using one of the function you implemented. Display the image and its histogram. \n",
    "    Add titles to the figures and labels where is needed. <br> "
   ]
  },
  {
   "cell_type": "code",
   "execution_count": null,
   "metadata": {
    "id": "EHMckc-WfSBP"
   },
   "outputs": [],
   "source": [
    "# ====== YOUR CODE: ======\n",
    "chest_img = plt.imread('images/chest.jpg')\n",
    "histogram = img_hist_advanced(chest_img)\n",
    "\n",
    "plt.figure(figsize=(10,4))\n",
    "plt.subplot(1,2,1)\n",
    "plt.title('Original Image')\n",
    "plt.imshow(chest_img, cmap='gray')\n",
    "\n",
    "plt.subplot(1,2,2)\n",
    "plt.title('Gray Value Histogram')\n",
    "plt.bar(range(256),histogram)\n",
    "plt.xlabel('Gray value')\n",
    "plt.ylabel('Count')\n",
    "\n",
    "plt.show()\n",
    "# ========================"
   ]
  },
  {
   "cell_type": "markdown",
   "metadata": {
    "id": "9K6mO8TSfSBQ"
   },
   "source": [
    "7. Implement the funciton `hist_eq` that receives an image as a uint8 numpy array and performs histogram equalization on that image. The output image's data type has to be uint8 as well.  <br>\n",
    "     Write a description of your function and explain its inputs and output.<br>\n",
    "     **Do not use the function np.cumsum()**\n"
   ]
  },
  {
   "cell_type": "code",
   "execution_count": null,
   "metadata": {
    "id": "tw2mb6pofSBQ"
   },
   "outputs": [],
   "source": [
    "def hist_eq(img: np.ndarray) -> np.ndarray:\n",
    "    '''\n",
    "    The function gets an image and performs histogram equalization.\n",
    "    \n",
    "    :param img: uint8 numpy array of an image  \n",
    "    :returm img_cum: image after performing histogram equalization to its gray values.\n",
    "    '''  \n",
    "        \n",
    "    # ====== YOUR CODE: ======\n",
    "    hist = img_hist_advanced(img)\n",
    "    norm_hist = hist/img.size\n",
    "    com_norm_hist = []\n",
    "    \n",
    "    for i in range(256):\n",
    "        j = np.sum(norm_hist[:i])\n",
    "        com_norm_hist.append(j)\n",
    "    \n",
    "    com_norm_hist = np.array(com_norm_hist)\n",
    "    transform_map = (255*com_norm_hist).astype(np.uint8)\n",
    "    \n",
    "    eq_img = transform_map[img]\n",
    "\n",
    "    # ========================\n",
    "    \n",
    "    return eq_img\n"
   ]
  },
  {
   "cell_type": "markdown",
   "metadata": {
    "id": "92l46p6xfSBQ"
   },
   "source": [
    "8. Apply histogram equalization on the chest image using the function `hist_eq` and display the transformed image and its histogram using the function `img_hist_advanced` you've implemented. <br>\n",
    "    Add titles to the figures and labels where is needed.\n"
   ]
  },
  {
   "cell_type": "code",
   "execution_count": null,
   "metadata": {
    "id": "gHcUlSUKfSBQ"
   },
   "outputs": [],
   "source": [
    "# ====== YOUR CODE: ======\n",
    "chest_img = plt.imread('images/chest.jpg')\n",
    "trans_img = hist_eq(chest_img)\n",
    "histogram = img_hist_advanced(trans_img)\n",
    "\n",
    "plt.figure(figsize=(10,4))\n",
    "plt.subplot(1,2,1)\n",
    "plt.title('Transformed Image'), plt.imshow(trans_img, cmap='gray')\n",
    "plt.subplot(1,2,2)\n",
    "plt.title('Gray Value Histogram'), plt.bar(range(256),histogram), plt.xlabel('Gray value'), plt.ylabel('Count')\n",
    "\n",
    "plt.show()\n",
    "# ========================"
   ]
  },
  {
   "cell_type": "markdown",
   "metadata": {
    "id": "Ui0W2V36fSBQ"
   },
   "source": [
    "9. Did you get a flat histogram after histogram equalization? Explain why yes or why not. \n"
   ]
  },
  {
   "cell_type": "markdown",
   "metadata": {
    "id": "ErYmTa8SfSBR"
   },
   "source": [
    "**Answer:**"
   ]
  },
  {
   "cell_type": "markdown",
   "metadata": {
    "id": "9O6-NAIMfSBR"
   },
   "source": [
    "No, I did not get a flat histogram after histogram equalization.\n",
    "Histogram equalization stretches the range of the actual used gray values in the image but the number of pixels that represented by the same value is the same so the 'count' axis will not be equal for all valus."
   ]
  },
  {
   "cell_type": "markdown",
   "metadata": {
    "id": "R0iHavGtfSBR"
   },
   "source": [
    "10. Linear contrast stretching, histogram equalization, and CLAHE are all methods that aim to stretch out the intensity range. Explain the main differences between these methods and when one is preferred over the other.\n"
   ]
  },
  {
   "cell_type": "markdown",
   "metadata": {
    "id": "34zuZhBzfSBR"
   },
   "source": [
    "**Answer:**"
   ]
  },
  {
   "cell_type": "markdown",
   "metadata": {
    "id": "Ilh10b67fSBR"
   },
   "source": [
    "**Linear contrast stretching:** expands uniformly the image intensity range in order to increase the contrast. It match the minimum/maximum values of the intensity with the minimum/maximum value of the gray range and spread the rest of the intensity values between.\n",
    "This method won't be affective if the minimum/maximum values of the image intensity are close to 0 and 255.\n",
    "\n",
    "**Histogram equalization:** Stretching the intensity range of the image by spreading the most frequent intensity in order to increases the global contrast. \n",
    "Using this method, the Shape of the histogram changes and the original image can't be reprduced. \n",
    "\n",
    "**Contrast limited adaptive histogram equalization (CLAHE):** performing histogram equalization on divided blocks of the image in order to reduce noise."
   ]
  },
  {
   "cell_type": "markdown",
   "metadata": {
    "id": "Dq6rdn1yfSBR"
   },
   "source": [
    "---"
   ]
  },
  {
   "cell_type": "markdown",
   "metadata": {
    "id": "h_afjTvafSBR"
   },
   "source": [
    "###  Exercise 2\n",
    "\n",
    "\n",
    "1. Implement the function `conv2D` that takes in an image and a filter in the form of 2D numpy arrays, and returns the convolution product of the two arrays such that the output will have the same shape as the input image. <br>\n",
    "    You can assume: zero padding, the image class is uint8, and the filter's shape is (k,k).<br>\n",
    "    **Do not use the functions np.pad()**\n",
    "    \n",
    "     Write a description of your function and explain its inputs and output.\n"
   ]
  },
  {
   "cell_type": "code",
   "execution_count": null,
   "metadata": {
    "id": "EFGc0jW8fSBS"
   },
   "outputs": [],
   "source": [
    "def conv2D(img: np.array, kernel: np.ndarray)-> np.ndarray:\n",
    "    '''\n",
    "    The function conv2D gets an image and a kernel filter and returns their convolution product by shifting the kernel across the image.\n",
    "   \n",
    "    :param img: uint8 numpy array image\n",
    "    :param kernel: kXk numpy array of the kernel filter\n",
    "    :returm conv_img: image-sized numpy array of the convulation product of the image with the kernel. \n",
    "    ''' \n",
    "\n",
    "    # ====== YOUR CODE: ======\n",
    "    img_rows, img_cols = img.shape\n",
    "\n",
    "    k = kernel.shape[0]\n",
    "    diff = int(np.floor(k/2))\n",
    "    \n",
    "    pad_img = np.zeros([img_rows+2*diff, img_cols+2*diff])\n",
    "    pad_img[diff:-diff, diff:-diff] = img\n",
    "    \n",
    "    conv_img = np.zeros_like(img)\n",
    "    for i in range(img_rows):\n",
    "        for j in range(img_cols):\n",
    "            conv_img[i][j] = np.sum(pad_img[i:i+k, j:j+k] * kernel) \n",
    "\n",
    "    # ========================\n",
    "    \n",
    "    return conv_img\n"
   ]
  },
  {
   "cell_type": "markdown",
   "metadata": {
    "id": "16nwl4q2fSBS"
   },
   "source": [
    "2.  Load the image 'retina_noisy.jpg' and apply 3X3 mean filter.<br>\n",
    "    Display in one figure the original image, the filtered image and the difference between them. Add titels."
   ]
  },
  {
   "cell_type": "code",
   "execution_count": null,
   "metadata": {
    "id": "N02MaU_KfSBS"
   },
   "outputs": [],
   "source": [
    "# ====== YOUR CODE: ======\n",
    "orig_img = plt.imread('images/retina_noisy.jpg').astype(int)\n",
    "\n",
    "mean_filter = 1/9 * np.ones((3,3))\n",
    "conv_img = conv2D(orig_img, mean_filter)\n",
    "diff = orig_img - conv_img\n",
    "\n",
    "plt.figure(figsize=(15,15))\n",
    "plt.subplot(1,3,1)\n",
    "plt.imshow(orig_img, cmap='gray'), plt.title('Original Image')\n",
    "plt.subplot(1,3,2)\n",
    "plt.imshow(conv_img, cmap='gray'), plt.title('Filtered Image')\n",
    "plt.subplot(1,3,3)\n",
    "plt.imshow(diff, cmap='gray'), plt.title('Difference Between Images')\n",
    "# ========================"
   ]
  },
  {
   "cell_type": "markdown",
   "metadata": {
    "id": "q2KK_TE7fSBS"
   },
   "source": [
    "3. What kind of noise would **not** be optimally filtered by a Gaussian or a bilateral filter and especially if the range variance parameter is low? how would you filter this noise?"
   ]
  },
  {
   "cell_type": "markdown",
   "metadata": {
    "id": "OHuiarS-fSBT"
   },
   "source": [
    "**Answer:**"
   ]
  },
  {
   "cell_type": "markdown",
   "metadata": {
    "id": "28sx0cehfSBT"
   },
   "source": [
    "Gaussian filter is blurring the image by Gaussian function and bilateral filter is replacing the pixels with the avaraged weight of its neighbors. these filters are sensitive to outlaires and will not optimally filter noise such as Salt-and-pepper which charachterized by random black and white pixels. \n",
    "I would filter this noise by using median filter which replace the central value of the neighbors \n",
    "(random white and black pixels) so the image will be optimally filtered."
   ]
  },
  {
   "cell_type": "markdown",
   "metadata": {
    "id": "4hWgSxQHfSBT"
   },
   "source": [
    "4. **Bonus:** (10 points)\n",
    "\n",
    "    Another way to calculate the convolution product between an image and kernal is shifting the image instead of moving the kernel accros the image. \n",
    "Implemet the function `conv2D_shift_img` that takes in an image and a filter in the form of 2D numpy arrays, and returns the convolution product according to the above method.<br> \n",
    "The output should have the same shape as the input image.<br>\n",
    "You can assume: zero padding, the image class is uint8, and the filter's shape is (k,k).\n",
    "\n",
    "    Write a description of your function and explain its inputs and output."
   ]
  },
  {
   "cell_type": "code",
   "execution_count": null,
   "metadata": {
    "id": "q4_rkPR6fSBT"
   },
   "outputs": [],
   "source": [
    "def conv2D_shift_img(img: np.array, kernel: np.ndarray)-> np.ndarray:\n",
    "    '''\n",
    "    The function conv2D_shift_img gets an image and a kernel filter and returns their convolution product by shifting the image.\n",
    "\n",
    "    :param img: uint8 numpy array image\n",
    "    :param kernel: kXk numpy array of the kernel filter\n",
    "    :returm conv_img: image-sized numpy array of the convulation product of the image with the kernel.\n",
    "    ''' \n",
    "\n",
    "    # ====== YOUR CODE: ======\n",
    "    img_rows, img_cols = img.shape\n",
    "\n",
    "    k = kernel.shape[0]\n",
    "    diff = int(np.floor(k/2))\n",
    "    diffx = int((img_rows - diff)) \n",
    "    diffy = int((img_cols - diff))\n",
    "\n",
    "    pad_krnl = np.zeros([k+2*diffx, k+2*diffy])\n",
    "    pad_krnl[diffx:-diffx, diffy:-diffy] = kernel\n",
    "\n",
    "    conv_img = np.zeros_like(np.flip(img))\n",
    "  \n",
    "    for i in range(img_rows):\n",
    "        for j in range(img_cols):\n",
    "            conv_img[j][i] = np.sum(pad_krnl[i:i+img_rows, j:j+img_cols] * img) \n",
    "\n",
    "    # ========================\n",
    "    \n",
    "    return conv_img\n"
   ]
  },
  {
   "cell_type": "markdown",
   "metadata": {
    "id": "pXrypzKufSBT"
   },
   "source": [
    "---"
   ]
  },
  {
   "cell_type": "markdown",
   "metadata": {
    "id": "I35n71yufSBT"
   },
   "source": [
    "###  Exercise 3\n",
    "\n",
    "1. Implement the function `bilateral_kernel` that takes in a region of an image and returns the value of its central pixel after filtering by a bilateral filter.<br>\n",
    "    All images should be in an 8-bit format. Try to avoid using loops.    \n",
    "     Write a description of your function and explain its inputs and output.\n"
   ]
  },
  {
   "cell_type": "code",
   "execution_count": null,
   "metadata": {
    "id": "TCJ9vKvxfSBU"
   },
   "outputs": [],
   "source": [
    "def bilateral_kernel(region: np.array, spatial_std: float, range_std: float)-> int:\n",
    "    \n",
    "    '''\n",
    "    bilateral_kernel function gets an image's region with wanted STD values, and returns the central pixel value of a bilateral filtered image.\n",
    "    \n",
    "    :param region: uint8 numpy array of the wanted region of an image\n",
    "    :param spatial_std: filter's spatial standard deviation\n",
    "    :param range_std: filter's range standard deviation\n",
    "    :returm filtered_pixel: the central pixel value of the image after bilateral filtering.\n",
    "    ''' \n",
    "\n",
    "    # ====== YOUR CODE: ======\n",
    "    k_rows, k_cols = region.shape\n",
    "    mid_row, mid_col = int(k_rows/2), int(k_cols/2)\n",
    "\n",
    "    filtered_pixel = 0\n",
    "    wp = 0\n",
    "    for i in range(k_rows):\n",
    "        for j in range(k_cols):\n",
    "            \n",
    "            s_dist = (mid_row-i)**2 + (mid_col-j)**2\n",
    "            r_dist = (region[mid_row, mid_col] - region[i, j])**2\n",
    "            w = np.exp((-0.5*s_dist/spatial_std**2) + (-0.5*r_dist/range_std**2)) \n",
    "            wp += w\n",
    "            \n",
    "            filtered_pixel += w*region[i, j]\n",
    "\n",
    "    filtered_pixel = (filtered_pixel/wp).astype(int)\n",
    "    # ========================\n",
    "    \n",
    "    return filtered_pixel"
   ]
  },
  {
   "cell_type": "markdown",
   "metadata": {
    "id": "EZdmQ1j7fSBU"
   },
   "source": [
    "2. Implement the function `bilateral_filter` that takes in an image and performs bilateral filtering on it.<br>\n",
    "    All images should be in an 8-bit format.<br>\n",
    "    Set default values for the arguments kernel_size, range_std and spatial_std.<br>\n",
    "    Write a description of your function and explain its inputs and output.\n"
   ]
  },
  {
   "cell_type": "code",
   "execution_count": null,
   "metadata": {
    "id": "elPVCV14fSBV"
   },
   "outputs": [],
   "source": [
    "def bilateral_filter(img: np.array, kernel_size: int, range_std: float, spatial_std: float)-> np.ndarray:\n",
    "    '''\n",
    "    bilateral_filter function gets an image and perform a bilateral filtering on.\n",
    "    \n",
    "    :param img: uint8 numpy array of an image\n",
    "    :param kernel_size: the size k of the kernel [k,k]\n",
    "    :param range_std: filter's range standard deviation\n",
    "    :param spatial_std: filter's spatial standard deviation\n",
    "    :returm filtered_img: uint8 numpy array of the image after bilateral filtering\n",
    "    ''' \n",
    "\n",
    "    # ====== YOUR CODE: ======\n",
    "    img_rows, img_cols = img.shape\n",
    "    diff = int(np.floor(kernel_size/2))\n",
    "\n",
    "    # pad_img = np.pad(img, diff, constant_values=0)\n",
    "    pad_img = np.zeros([img_rows+2*diff, img_cols+2*diff])\n",
    "    pad_img[diff:-diff, diff:-diff] = img\n",
    "\n",
    "    filtered_img = np.zeros_like(img)\n",
    "    for i in range(img_rows):\n",
    "        for j in range(img_cols):\n",
    "            blf_region = pad_img[i:i+kernel_size, j:j+kernel_size]\n",
    "            filtered_img[i][j] = bilateral_kernel(blf_region, spatial_std, range_std)\n",
    "\n",
    "    filtered_img = filtered_img.astype('uint8')\n",
    "\n",
    "    # ========================\n",
    "    \n",
    "    return filtered_img\n",
    "\n"
   ]
  },
  {
   "cell_type": "markdown",
   "metadata": {
    "id": "C80AIVF-fSBV"
   },
   "source": [
    "3. Apply Bilateral filter on the image 'retina_noisy'<br>\n",
    "    Set the values of the range std and the spatial std to be 9 and the value of the kernel size according to the below note.  <br>\n",
    "    Note: Bilateral filter is composed of two gaussian filters. As you know, most of the gaussian lies within three standard deviations away from the mean. <br>\n",
    "    Display in one figure the original image, the filtered image and the difference between them. Add titels.\n"
   ]
  },
  {
   "cell_type": "code",
   "execution_count": null,
   "metadata": {
    "id": "lBx5JX-RfSBV"
   },
   "outputs": [],
   "source": [
    "# ====== YOUR CODE: ======\n",
    "orig_img = plt.imread('images/retina_noisy.jpg')\n",
    "kernel = 27\n",
    "r_std = 9\n",
    "s_std = 9\n",
    "\n",
    "blf_img = bilateral_filter(orig_img, kernel, r_std, s_std)\n",
    "\n",
    "plt.figure(figsize=(15,15))\n",
    "plt.subplot(1,3,1)\n",
    "plt.imshow(orig_img, cmap='gray'), plt.title('Original Image')\n",
    "plt.subplot(1,3,2)\n",
    "plt.imshow(blf_img, cmap='gray'), plt.title('Filtered Image')\n",
    "plt.subplot(1,3,3)\n",
    "plt.imshow(orig_img-blf_img.astype(int), cmap='gray'), plt.title('Difference Between Images')\n",
    "# ========================\n",
    "\n"
   ]
  },
  {
   "cell_type": "markdown",
   "metadata": {
    "id": "aCp9a-LDfSBV"
   },
   "source": [
    "4. Choose three different parameter spatial std and range_std values and show the filtered images (overall 9 images).<br>\n",
    "    Display the images in a grid where the spatial std is constant along the rows and the range std is constant along the columns. Add titles to the images. <br>\n",
    "    The kernel_radius value can remain the same as in the previous section."
   ]
  },
  {
   "cell_type": "code",
   "execution_count": null,
   "metadata": {
    "id": "SN6hK3U_fSBV"
   },
   "outputs": [],
   "source": [
    "from matplotlib import figure\n",
    "# ====== YOUR CODE: ======\n",
    "img = plt.imread('images/retina_noisy.jpg')\n",
    "kernel_size = 27\n",
    "range_std = [1, 50, 80]\n",
    "spatial_std = [5, 25, 100]\n",
    "\n",
    "fig = plt.figure(figsize=(15,15))\n",
    "fig.suptitle('Filtered Images', fontsize=16)\n",
    "\n",
    "i = 0\n",
    "\n",
    "for s in spatial_std:\n",
    "    for r in range_std:\n",
    "      blf_img = bilateral_filter(img, kernel_size, r, s)\n",
    "\n",
    "      plt.subplot(3, 3, i+1)  \n",
    "      plt.imshow(blf_img, cmap='gray')\n",
    "      plt.title(f'range std={r} and spatial std={s}')\n",
    "\n",
    "      if i == 9:\n",
    "        break\n",
    "      i += 1\n",
    "\n",
    "plt.show()\n",
    "# ========================"
   ]
  },
  {
   "cell_type": "markdown",
   "metadata": {
    "id": "7OkBmiJBfSBW"
   },
   "source": [
    "5. What are the benefits of using a bilateral filter instead of a Gaussian filter?"
   ]
  },
  {
   "cell_type": "markdown",
   "metadata": {
    "id": "EF81SxJ_fSBW"
   },
   "source": [
    "**Answer:**"
   ]
  },
  {
   "cell_type": "markdown",
   "metadata": {
    "id": "toyt-SUgfSBW"
   },
   "source": [
    "Both filters are used in order to smooth the image and reduce the noice. \n",
    "The benefit of using a bilateral filter is that it preserves image edges while the gaussian filter smoothes the whole image."
   ]
  }
 ],
 "metadata": {
  "accelerator": "GPU",
  "colab": {
   "private_outputs": true,
   "provenance": [
    {
     "file_id": "1P4bdKpETdAXN_HHpzdW-p0pkNwpbdx1b",
     "timestamp": 1614089744200
    }
   ]
  },
  "gpuClass": "standard",
  "kernelspec": {
   "display_name": "Python 3 (ipykernel)",
   "language": "python",
   "name": "python3"
  },
  "language_info": {
   "codemirror_mode": {
    "name": "ipython",
    "version": 3
   },
   "file_extension": ".py",
   "mimetype": "text/x-python",
   "name": "python",
   "nbconvert_exporter": "python",
   "pygments_lexer": "ipython3",
   "version": "3.11.4"
  }
 },
 "nbformat": 4,
 "nbformat_minor": 4
}
