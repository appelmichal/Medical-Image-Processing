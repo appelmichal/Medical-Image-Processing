{
 "cells": [
  {
   "cell_type": "markdown",
   "metadata": {
    "id": "qFsf1krHEe1s"
   },
   "source": [
    "# BM 336027 - Technion - Medical Image Processing\n",
    "\n",
    "\n",
    "## Homework 1 - Image Histograms & Filters \n",
    "---\n",
    "\n",
    "### <a style='color:red'> Due Date: 23.11.2022 </a>"
   ]
  },
  {
   "cell_type": "markdown",
   "metadata": {
    "id": "DhP_Y44pEe1u"
   },
   "source": [
    "---\n",
    "###  Agenda\n",
    "\n",
    "* [Exercise 0: Color Conversion](#Exercise-0)\n",
    "* [Exercise 1: Histogram Equalization](#Exercise-1)\n",
    "* [Exercise 2: Convolution & Filters](#Exercise-2)\n",
    "* [Exercise 3: Bilateral Filter](#Exercise-3)\n",
    "\n",
    "#### Use as many cells as you need"
   ]
  },
  {
   "cell_type": "markdown",
   "metadata": {
    "id": "HPujGQ_KEe1v"
   },
   "source": [
    "---\n",
    "### Students Information\n",
    "\n",
    "* Fill in\n",
    "\n",
    "\n",
    "|              Name |             Id |             email |\n",
    "|-------------------|----------------|------------------ |\n",
    "|  [your name here] | [your id here] | [your email here] |\n"
   ]
  },
  {
   "cell_type": "markdown",
   "metadata": {
    "id": "QZhV6TocEe1w"
   },
   "source": [
    "---\n",
    "### Submission Guidelines\n",
    "\n",
    "* **No handwritten submissions.** \n",
    "* What you have to submit:\n",
    "    * You should submit this file only, with the name: `bm_hw1_id.ipynb`.\n",
    "    * No other file-types (`.py`, `.docx`...) will be accepted.\n",
    "* Submission on the course website (Moodle).\n"
   ]
  },
  {
   "cell_type": "markdown",
   "metadata": {},
   "source": [
    "---"
   ]
  },
  {
   "cell_type": "code",
   "execution_count": null,
   "metadata": {
    "id": "oV-5zk6mEe1y"
   },
   "outputs": [],
   "source": [
    "# imports you will need\n",
    "import numpy as np\n",
    "import matplotlib.pyplot as plt\n",
    "%matplotlib inline"
   ]
  },
  {
   "cell_type": "markdown",
   "metadata": {},
   "source": [
    "---"
   ]
  },
  {
   "cell_type": "markdown",
   "metadata": {},
   "source": [
    "### **Assignment Instructions**\n",
    "**In this assignment, you are allowed to use only basic numpy and matplotlib functions, and functions you implemented in other sections of the exercises**"
   ]
  },
  {
   "cell_type": "markdown",
   "metadata": {},
   "source": [
    "---"
   ]
  },
  {
   "cell_type": "markdown",
   "metadata": {
    "id": "mvVeIzT6kaZ5"
   },
   "source": [
    "###  Exercise 0"
   ]
  },
  {
   "cell_type": "markdown",
   "metadata": {},
   "source": [
    "In this exercise, we want to convert an RGB image to a grayscale image. "
   ]
  },
  {
   "cell_type": "markdown",
   "metadata": {},
   "source": [
    "1. Implement the function `rgb2gray_mean` that takes in a three-channel RGB image in the form of a numpy array and returns a grayscale image which is the average value of the three channels (red, green, and blue) <br>\n",
    "    Ensure that your function can be configured with channels first (3, H, W) or last (H, W, 3). <br>\n",
    "    Write a description of your function and explain its inputs and output"
   ]
  },
  {
   "cell_type": "code",
   "execution_count": null,
   "metadata": {},
   "outputs": [],
   "source": [
    "def rgb2gray_mean(img: np.ndarray) -> np.ndarray:\n",
    "    '''\n",
    "    Add your description and complete the inputs (params) and output (return).\n",
    "    \n",
    "    :param img: \n",
    "    :return img_gray:\n",
    "    '''\n",
    "    # ====== YOUR CODE: ======\n",
    " \n",
    "\n",
    "    # ========================\n",
    "    \n",
    "    return img_gray\n"
   ]
  },
  {
   "cell_type": "markdown",
   "metadata": {},
   "source": [
    "2. Averaging all the channels may not be the best way to apply this conversion. A more \"human-oriented\" way is taking the weighted average of the three channels according to the following equation:\n",
    "$$ Y = 0.2125\\cdot R + 0.7154\\cdot G + 0.0721\\cdot B $$\n",
    "    look [here](https://www.baeldung.com/cs/convert-rgb-to-grayscale) for more information. <br>\n",
    "    \n",
    "    Implement the function `rgb2gray_weighted` that takes in a three-channel RGB image in the form of a numpy array and returns a grayscale image according to the above equation.<br>\n",
    "    Ensure that your function can be configured with channels first (3, H, W) or last (H, W, 3). <br>\n",
    "    Write a description of your function and explain its inputs and output."
   ]
  },
  {
   "cell_type": "code",
   "execution_count": null,
   "metadata": {
    "id": "ekTUtP9qkdQO"
   },
   "outputs": [],
   "source": [
    "def rgb2gray_weighted(img: np.ndarray) -> np.ndarray:\n",
    "    '''\n",
    "    Add your description and complete the inputs (params) and output (return).\n",
    "    \n",
    "    :param img: \n",
    "    :return img_gray:\n",
    "    '''\n",
    "    # ====== YOUR CODE: ======\n",
    "   \n",
    "\n",
    "    # ========================\n",
    "    \n",
    "    return img_gray\n",
    "    "
   ]
  },
  {
   "cell_type": "markdown",
   "metadata": {},
   "source": [
    "3. Load the colored image 'retina.jpg' and convert it to grayscale using the above two functions you implemented.<br>\n",
    "    Display the colored image and the two grayscaled images in one figure and add titles."
   ]
  },
  {
   "cell_type": "code",
   "execution_count": null,
   "metadata": {},
   "outputs": [],
   "source": [
    "# ====== YOUR CODE: ======\n",
    "\n",
    "\n",
    "# ========================"
   ]
  },
  {
   "cell_type": "markdown",
   "metadata": {},
   "source": [
    "---"
   ]
  },
  {
   "cell_type": "markdown",
   "metadata": {
    "id": "r3ak5FPMcOJE",
    "tags": []
   },
   "source": [
    "### Exercise 1\n",
    "\n",
    "In many cases, you might get images that do not utilize the entire range of pixel values. <br> \n",
    "In these cases, the images will look too dim or too bright.   "
   ]
  },
  {
   "cell_type": "markdown",
   "metadata": {},
   "source": [
    "First, we will implement a function that calculate the histogram of the image.<br>\n",
    "**Do not use the function plt.hist() in this exersice.**<br>"
   ]
  },
  {
   "cell_type": "markdown",
   "metadata": {},
   "source": [
    "1. Implement the function `img_hist_trivial` that receives an image as a uint8 numpy array and returns its histogram. Calcultat the histogram in the trivial way; going over the gray values and count them in the image.\n",
    "\n",
    "    Write a description of your function and explain its inputs and output.\n"
   ]
  },
  {
   "cell_type": "code",
   "execution_count": null,
   "metadata": {},
   "outputs": [],
   "source": [
    "def img_hist_trivial(img: np.ndarray)-> np.ndarray:\n",
    "    \n",
    "    '''\n",
    "    Add your description and complete the inputs (params) and output (return).\n",
    "    \n",
    "    :param img: \n",
    "    :return hist: \n",
    "    '''\n",
    "        \n",
    "    # ====== YOUR CODE: ======\n",
    "\n",
    "\n",
    "    # ========================\n",
    "    \n",
    "    return hist\n"
   ]
  },
  {
   "cell_type": "markdown",
   "metadata": {},
   "source": [
    "2. What is the computational complexity of the above function? "
   ]
  },
  {
   "cell_type": "markdown",
   "metadata": {},
   "source": [
    "**Answer:**"
   ]
  },
  {
   "cell_type": "markdown",
   "metadata": {},
   "source": []
  },
  {
   "cell_type": "markdown",
   "metadata": {},
   "source": [
    "3. Implement the function `img_hist_advanced` that receives an image as a uint8 numpy array and returns its histogram. This time, calculate the histogram such the computational complexity is lower. Think of a way that you go over the image just once. \n"
   ]
  },
  {
   "cell_type": "code",
   "execution_count": null,
   "metadata": {},
   "outputs": [],
   "source": [
    "def img_hist_advanced(img: np.ndarray)-> np.ndarray:\n",
    "    \n",
    "    '''\n",
    "    Add your description and complete the inputs (params) and output (return).\n",
    "    \n",
    "    :param img: \n",
    "    :return hist: \n",
    "    '''\n",
    "        \n",
    "    # ====== YOUR CODE: ======\n",
    "\n",
    "\n",
    "    # ========================\n",
    "    \n",
    "    return hist\n"
   ]
  },
  {
   "cell_type": "markdown",
   "metadata": {},
   "source": [
    "4. What is the computational complexity of the above function? \n"
   ]
  },
  {
   "cell_type": "markdown",
   "metadata": {},
   "source": [
    "**Answer:**"
   ]
  },
  {
   "cell_type": "markdown",
   "metadata": {},
   "source": []
  },
  {
   "cell_type": "markdown",
   "metadata": {},
   "source": [
    "5. Load the image 'chest.jpg'. Measure the execution time of the functions `img_hist_trivial` and `img_hist_advanced` on that image.\n"
   ]
  },
  {
   "cell_type": "code",
   "execution_count": null,
   "metadata": {},
   "outputs": [],
   "source": [
    "# ====== YOUR CODE: ======\n",
    "\n",
    "\n",
    "# ========================"
   ]
  },
  {
   "cell_type": "markdown",
   "metadata": {},
   "source": [
    "6. Get the histogram of the cest image using one of the function you implemented. Display the image and its histogram. \n",
    "    Add titles to the figures and labels where is needed. <br> "
   ]
  },
  {
   "cell_type": "code",
   "execution_count": null,
   "metadata": {},
   "outputs": [],
   "source": [
    "# ====== YOUR CODE: ======\n",
    "\n",
    "\n",
    "# ========================"
   ]
  },
  {
   "cell_type": "markdown",
   "metadata": {},
   "source": [
    "7. Implement the funciton `hist_eq` that receives an image as a uint8 numpy array and performs histogram equalization on that image. The output image's data type has to be uint8 as well.  <br>\n",
    "     Write a description of your function and explain its inputs and output.<br>\n",
    "     **Do not use the function np.cumsum()**\n"
   ]
  },
  {
   "cell_type": "code",
   "execution_count": null,
   "metadata": {},
   "outputs": [],
   "source": [
    "def hist_eq(img: np.ndarray) -> np.ndarray:\n",
    "    '''\n",
    "    Add your description and complete the inputs (params) and output (return).\n",
    "    \n",
    "    :param img:   \n",
    "    :returm img_cum:  \n",
    "    '''  \n",
    "        \n",
    "    # ====== YOUR CODE: ======\n",
    "\n",
    "    \n",
    "    # ========================\n",
    "    \n",
    "    return eq_img\n"
   ]
  },
  {
   "cell_type": "markdown",
   "metadata": {},
   "source": [
    "8. Apply histogram equalization on the chest image using the function `hist_eq` and display the transformed image and its histogram using the function `img_hist_advanced` you've implemented. <br>\n",
    "    Add titles to the figures and labels where is needed.\n"
   ]
  },
  {
   "cell_type": "code",
   "execution_count": null,
   "metadata": {},
   "outputs": [],
   "source": [
    "# ====== YOUR CODE: ======\n",
    "\n",
    "\n",
    "# ========================"
   ]
  },
  {
   "cell_type": "markdown",
   "metadata": {},
   "source": [
    "9. Did you get a flat histogram after histogram equalization? Explain why yes or why not. \n"
   ]
  },
  {
   "cell_type": "markdown",
   "metadata": {},
   "source": [
    "**Answer:**"
   ]
  },
  {
   "cell_type": "markdown",
   "metadata": {},
   "source": []
  },
  {
   "cell_type": "markdown",
   "metadata": {},
   "source": [
    "10. Linear contrast stretching, histogram equalization, and CLAHE are all methods that aim to stretch out the intensity range. Explain the main differences between these methods and when one is preferred over the other.\n"
   ]
  },
  {
   "cell_type": "markdown",
   "metadata": {},
   "source": [
    "**Answer:**"
   ]
  },
  {
   "cell_type": "markdown",
   "metadata": {},
   "source": []
  },
  {
   "cell_type": "markdown",
   "metadata": {},
   "source": [
    "---"
   ]
  },
  {
   "cell_type": "markdown",
   "metadata": {},
   "source": [
    "###  Exercise 2\n",
    "\n",
    "\n",
    "1. Implement the function `conv2D` that takes in an image and a filter in the form of 2D numpy arrays, and returns the convolution product of the two arrays such that the output will have the same shape as the input image. <br>\n",
    "    You can assume: zero padding, the image class is uint8, and the filter's shape is (k,k).<br>\n",
    "    **Do not use the functions np.pad()**\n",
    "    \n",
    "     Write a description of your function and explain its inputs and output.\n"
   ]
  },
  {
   "cell_type": "code",
   "execution_count": null,
   "metadata": {},
   "outputs": [],
   "source": [
    "def conv2D(img: np.array, kernel: np.ndarray)-> np.ndarray:\n",
    "    '''\n",
    "    Add your description and complete the inputs (params) and output (return).\n",
    "    \n",
    "    :param img: \n",
    "    :param kernel: \n",
    "    :returm conv_img:   \n",
    "    ''' \n",
    "\n",
    "    # ====== YOUR CODE: ======\n",
    "\n",
    "\n",
    "    # ========================\n",
    "    \n",
    "    return conv_img\n"
   ]
  },
  {
   "cell_type": "markdown",
   "metadata": {},
   "source": [
    "2.  Load the image 'retina_noisy.jpg' and apply 3X3 mean filter.<br>\n",
    "    Display in one figure the original image, the filtered image and the difference between them. Add titels."
   ]
  },
  {
   "cell_type": "code",
   "execution_count": null,
   "metadata": {},
   "outputs": [],
   "source": [
    "# ====== YOUR CODE: ======\n",
    "\n",
    "\n",
    "# ========================"
   ]
  },
  {
   "cell_type": "markdown",
   "metadata": {},
   "source": [
    "3. What kind of noise would **not** be optimally filtered by a Gaussian or a bilateral filter and especially if the range variance parameter is low? how would you filter this noise?"
   ]
  },
  {
   "cell_type": "markdown",
   "metadata": {},
   "source": [
    "**Answer:**"
   ]
  },
  {
   "cell_type": "markdown",
   "metadata": {},
   "source": []
  },
  {
   "cell_type": "markdown",
   "metadata": {},
   "source": [
    "4. **Bonus:** (10 points)\n",
    "\n",
    "    Another way to calculate the convolution product between an image and kernal is shifting the image instead of moving the kernel accros the image. \n",
    "Implemet the function `conv2D_shift_img` that takes in an image and a filter in the form of 2D numpy arrays, and returns the convolution product according to the above method.<br> \n",
    "The output should have the same shape as the input image.<br>\n",
    "You can assume: zero padding, the image class is uint8, and the filter's shape is (k,k).\n",
    "\n",
    "    Write a description of your function and explain its inputs and output."
   ]
  },
  {
   "cell_type": "code",
   "execution_count": null,
   "metadata": {},
   "outputs": [],
   "source": [
    "def conv2D_shift_img(img: np.array, kernel: np.ndarray)-> np.ndarray:\n",
    "    '''\n",
    "    Add your description and complete the inputs (params) and output (return).\n",
    "    \n",
    "    :param img: \n",
    "    :param kernel: \n",
    "    :returm conv_img:  \n",
    "    ''' \n",
    "\n",
    "    # ====== YOUR CODE: ======\n",
    "\n",
    "    \n",
    "    # ========================\n",
    "    \n",
    "    return conv_img\n"
   ]
  },
  {
   "cell_type": "markdown",
   "metadata": {},
   "source": [
    "---"
   ]
  },
  {
   "cell_type": "markdown",
   "metadata": {},
   "source": [
    "###  Exercise 3\n",
    "\n",
    "1. Implement the function `bilateral_kernel` that takes in a region of an image and returns the value of its central pixel after filtering by a bilateral filter.<br>\n",
    "    All images should be in an 8-bit format. Try to avoid using loops.    \n",
    "     Write a description of your function and explain its inputs and output.\n"
   ]
  },
  {
   "cell_type": "code",
   "execution_count": null,
   "metadata": {},
   "outputs": [],
   "source": [
    "def bilateral_kernel(region: np.array, spatial_std: float, range_std: float)-> int:\n",
    "    \n",
    "    '''\n",
    "    Add your description and complete the inputs (params) and output (return).\n",
    "    \n",
    "    :param region: \n",
    "    :param spatial_std: \n",
    "    :param range_std:\n",
    "    :returm filtered_pixel:  \n",
    "    ''' \n",
    "\n",
    "    # ====== YOUR CODE: ======\n",
    "    \n",
    "\n",
    "    # ========================\n",
    "    \n",
    "    return filtered_pixel\n"
   ]
  },
  {
   "cell_type": "markdown",
   "metadata": {},
   "source": [
    "2. Implement the function `bilateral_filter` that takes in an image and performs bilateral filtering on it.<br>\n",
    "    All images should be in an 8-bit format.<br>\n",
    "    Set default values for the arguments kernel_size, range_std and spatial_std.<br>\n",
    "    Write a description of your function and explain its inputs and output.\n"
   ]
  },
  {
   "cell_type": "code",
   "execution_count": null,
   "metadata": {},
   "outputs": [],
   "source": [
    "def bilateral_filter(img: np.array, kernel_size: int, range_std: float, spatial_std: float)-> np.ndarray:\n",
    "    '''\n",
    "    Add your description and complete the inputs (params) and output (return).\n",
    "    \n",
    "    :param region: \n",
    "    :param kernel_size: \n",
    "    :param range_std: \n",
    "    :param spatial_std: \n",
    "    :returm filtered_img: \n",
    "    ''' \n",
    "\n",
    "    # ====== YOUR CODE: ======\n",
    "    \n",
    "\n",
    "    # ========================\n",
    "    \n",
    "    return filtered_img\n"
   ]
  },
  {
   "cell_type": "markdown",
   "metadata": {},
   "source": [
    "3. Apply Bilateral filter on the image 'retina_noisy'<br>\n",
    "    Set the values of the range std and the spatial std to be 9 and the value of the kernel size according to the below note.  <br>\n",
    "    Note: Bilateral filter is composed of two gaussian filters. As you know, most of the gaussian lies within three standard deviations away from the mean. <br>\n",
    "    Display in one figure the original image, the filtered image and the difference between them. Add titels.\n"
   ]
  },
  {
   "cell_type": "code",
   "execution_count": null,
   "metadata": {},
   "outputs": [],
   "source": [
    "# ====== YOUR CODE: ======\n",
    "\n",
    "\n",
    "# ========================"
   ]
  },
  {
   "cell_type": "markdown",
   "metadata": {},
   "source": [
    "4. Choose three different parameter spatial std and range_std values and show the filtered images (overall 9 images).<br>\n",
    "    Display the images in a grid where the spatial std is constant along the rows and the range std is constant along the columns. Add titles to the images. <br>\n",
    "    The kernel_radius value can remain the same as in the previous section."
   ]
  },
  {
   "cell_type": "code",
   "execution_count": null,
   "metadata": {},
   "outputs": [],
   "source": [
    "# ====== YOUR CODE: ======\n",
    "\n",
    "\n",
    "# ========================"
   ]
  },
  {
   "cell_type": "markdown",
   "metadata": {},
   "source": [
    "5. What are the benefits of using a bilateral filter instead of a Gaussian filter?"
   ]
  },
  {
   "cell_type": "markdown",
   "metadata": {},
   "source": [
    "**Answer:**"
   ]
  },
  {
   "cell_type": "markdown",
   "metadata": {},
   "source": []
  }
 ],
 "metadata": {
  "colab": {
   "collapsed_sections": [],
   "name": "bm336027_hmw1_.ipynb",
   "provenance": [
    {
     "file_id": "1P4bdKpETdAXN_HHpzdW-p0pkNwpbdx1b",
     "timestamp": 1614089744200
    }
   ],
   "toc_visible": true
  },
  "kernelspec": {
   "display_name": "Python 3 (ipykernel)",
   "language": "python",
   "name": "python3"
  },
  "language_info": {
   "codemirror_mode": {
    "name": "ipython",
    "version": 3
   },
   "file_extension": ".py",
   "mimetype": "text/x-python",
   "name": "python",
   "nbconvert_exporter": "python",
   "pygments_lexer": "ipython3",
   "version": "3.10.6"
  }
 },
 "nbformat": 4,
 "nbformat_minor": 4
}
