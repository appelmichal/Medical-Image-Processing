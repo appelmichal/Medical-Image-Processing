{
 "cells": [
  {
   "cell_type": "markdown",
   "metadata": {
    "id": "qFsf1krHEe1s"
   },
   "source": [
    "# BM 336027 - Technion - Medical Image Processing\n",
    "\n",
    "\n",
    "## Homework 5 - Bonus \n",
    "\n",
    "---\n",
    "\n",
    "### <a style='color:red'> Due Date: 26.1.2023 </a>\n",
    "\n"
   ]
  },
  {
   "cell_type": "markdown",
   "metadata": {},
   "source": [
    "---\n",
    "\n",
    "### Agenda\n",
    "\n",
    "* [Bonus: Wavelet denoising](#Bonus:-Wavelet-denoising)\n",
    "\n",
    "\n",
    "#### Use as many cells as you need"
   ]
  },
  {
   "cell_type": "markdown",
   "metadata": {
    "id": "HPujGQ_KEe1v"
   },
   "source": [
    "---\n",
    "### Students Information\n",
    "\n",
    "* Fill in\n",
    "\n",
    "\n",
    "|              Name |             Id |             email |\n",
    "|-------------------|----------------|------------------ |\n",
    "|  [your name here] | [your id here] | [your email here] |"
   ]
  },
  {
   "cell_type": "markdown",
   "metadata": {
    "id": "QZhV6TocEe1w"
   },
   "source": [
    "### Submission Guidelines\n",
    "---\n",
    "* **No handwritten submissions.** \n",
    "* What you have to submit:\n",
    "    * You should submit this file only, with the name: `bm_hw5_id.ipynb`.\n",
    "    * No other file-types (`.py`, `.docx`...) will be accepted.\n",
    "* Submission on the course website (Moodle)."
   ]
  },
  {
   "cell_type": "code",
   "execution_count": null,
   "metadata": {
    "id": "oV-5zk6mEe1y"
   },
   "outputs": [],
   "source": [
    "# imports you will need\n",
    "import numpy as np\n",
    "import matplotlib.pyplot as plt\n",
    "%matplotlib inline"
   ]
  },
  {
   "cell_type": "markdown",
   "metadata": {},
   "source": [
    "---"
   ]
  },
  {
   "cell_type": "markdown",
   "metadata": {},
   "source": [
    "### **Assignment Instructions**\n",
    "**In this assignment, you are allowed to use the imported functions, basic numpy its sub modules functions, matplotlib functions, and functions you implemented in other sections of the exercises (unless otherwise instructed)**"
   ]
  },
  {
   "cell_type": "markdown",
   "metadata": {},
   "source": [
    "---"
   ]
  },
  {
   "cell_type": "markdown",
   "metadata": {},
   "source": [
    "### Bonus: Wavelet Denoising\n",
    "(15 points)"
   ]
  },
  {
   "cell_type": "markdown",
   "metadata": {},
   "source": [
    "* Examples for expected resutls are atteched in a PDF file."
   ]
  },
  {
   "cell_type": "markdown",
   "metadata": {},
   "source": [
    "Wavelet transform has widely applied in image denoising and relies on the wavelet representation of the image. \n",
    "Gaussian noise tends to be represented by small values in the wavelet domain and can be removed by setting coefficients below a given threshold to zero (hard thresholding) or shrinking all coefficients toward zero by a given amount (soft thresholding)."
   ]
  },
  {
   "cell_type": "markdown",
   "metadata": {},
   "source": [
    "#### Forward Haar Transform"
   ]
  },
  {
   "cell_type": "markdown",
   "metadata": {},
   "source": [
    "The Haar transform is the simplest orthogonal wavelet transform. It is computed by iterating difference and averaging between odd and even signal samples. <br>\n",
    "For the 2-D transformation, the average and difference should be computed first in the horizontal direction and then in the vertical direction or vice versa.<br>\n",
    "For $N=n\\times n$ image, the Haar transform operates over $J = \\log_2(n)-1$ scales. \n",
    "It computes a series of coarse-scale and fine-scale coefficients: approximation coefficients\n",
    "matrix $a_j\\in R^{n_j \\times n_j}$, and detail coefficient matrixes $d_j^H,d_j^V, d_j^D \\in R^{n_j \\times n_j}$ (horizontal, vertical & diagonal respectively), where $N_j=2^j$. <br>\n",
    "The first step is to apply a vertical transformation, which corresponds to applying a 1-D Haar transform on each column, i.e., it computes \n",
    "$\\tilde d_{j},\\tilde a_j$ from $a_{j+1}$ as, for all $\\ell=0,\\ldots,2^{j+1}-1$\n",
    "and $k=0,\\ldots,2^{j+1}-1$, \n",
    "$$\\tilde a_j[k,\\ell] = \\frac{a_{j+1}[2k,\\ell] + a_{j+1}[2k+1,\\ell]}{\\sqrt{2}}$$\n",
    "$$\\tilde d_j[k,\\ell] = \\frac{a_{j+1}[2k,\\ell] - a_{j+1}[2k+1,\\ell]}{\\sqrt{2}}$$"
   ]
  },
  {
   "cell_type": "markdown",
   "metadata": {},
   "source": [
    "1. Complete the function `haarV` that receives an image, computes $\\tilde d_{j},\\tilde a_j$ according to the equations above, and returns the haar wavelet transform that consists of $[\\tilde d_{j},\\tilde a_j]$ vertically stacked into one array.<br>\n",
    "Write a description of your function and explain its inputs and output."
   ]
  },
  {
   "cell_type": "code",
   "execution_count": null,
   "metadata": {},
   "outputs": [],
   "source": [
    "def haarV (img: np.ndarray ) -> np.ndarray:\n",
    "    '''\n",
    "    Add your description and complete the inputs (params) and output (return).\n",
    "    \n",
    "    :param img: \n",
    "    :return dwt_v:\n",
    "    '''\n",
    "    # ====== YOUR CODE: ======\n",
    "\n",
    "    # ========================     \n",
    "    return dwt_v"
   ]
  },
  {
   "cell_type": "markdown",
   "metadata": {},
   "source": [
    "2. Load the image 'noisy_img.png', and apply it vertical Haar transform. Display the original image and its vertical haar transform in one figure, and add titles. (Figure1 in the attached PDF is a representative example for the output)"
   ]
  },
  {
   "cell_type": "code",
   "execution_count": null,
   "metadata": {},
   "outputs": [],
   "source": [
    "# ====== YOUR CODE: ======\n",
    "\n",
    "# ========================   "
   ]
  },
  {
   "cell_type": "markdown",
   "metadata": {},
   "source": [
    "Next, the same 1-D horizontal transform should be applied to both $\\tilde a_j, \\tilde d_j$ to obtain the resulting matrices at scale $j$, i.e., to compute $a_j,d_j^H,d_j^V,d_j^D$ as, for all $\\ell, k =0,\\ldots,2^j-1$, \n",
    "$$a_j[k,\\ell] = \\frac{\\tilde a_{j}[k,2\\ell] + \\tilde a_{j}[k,2\\ell+1]}{\\sqrt{2}}$$\n",
    "$$d_j^H[k,\\ell] = \\frac{\\tilde a_{j}[k,2\\ell] - \\tilde a_{j}[k,2\\ell+1]}{\\sqrt{2}}$$\n",
    "$$d_j^V[k,\\ell] = \\frac{\\tilde d_{j}[k,2\\ell] + \\tilde d_{j}[k,2\\ell+1]}{\\sqrt{2}}$$\n",
    "$$d_j^D[k,\\ell] = \\frac{\\tilde d_{j}[k,2\\ell] - \\tilde d_{j}[k,2\\ell+1]}{\\sqrt{2}}$$"
   ]
  },
  {
   "cell_type": "markdown",
   "metadata": {},
   "source": [
    "The horizonal transformation can be done by using the function `haarV`. In order to apply the transformation horizontaly the input of the function will be the transposed image.<br> \n",
    "Run the function below. "
   ]
  },
  {
   "cell_type": "code",
   "execution_count": null,
   "metadata": {},
   "outputs": [],
   "source": [
    "def haarH (img): \n",
    "    return haarV (img.T).T"
   ]
  },
  {
   "cell_type": "markdown",
   "metadata": {},
   "source": [
    "3. Complete the function `haar2D` that performs a 2D-Haar transform on an image. Use the functions `haarV` and `haarH`. <br>\n",
    "Write a description of your function and explain its inputs and output."
   ]
  },
  {
   "cell_type": "code",
   "execution_count": null,
   "metadata": {},
   "outputs": [],
   "source": [
    "def haar2D(img: np.ndarray ) -> np.ndarray:\n",
    "    '''\n",
    "    Add your description and complete the inputs (params) and output (return).\n",
    "    \n",
    "    :param img: \n",
    "    :return dwt_2d:\n",
    "    '''\n",
    "    # ====== YOUR CODE: ======\n",
    "\n",
    "    # ======================== \n",
    "    return dwt_2d"
   ]
  },
  {
   "cell_type": "markdown",
   "metadata": {},
   "source": [
    "4. Apply the 2-D haar transform on the image 'noisy_img.png'. Display the original image and its 2-D haar transform in one figure, and add titles.\n",
    "(Figure2 in the attached PDF is a representative example for the output)"
   ]
  },
  {
   "cell_type": "code",
   "execution_count": null,
   "metadata": {},
   "outputs": [],
   "source": [
    "# ====== YOUR CODE: ======\n",
    "\n",
    "# ========================   "
   ]
  },
  {
   "cell_type": "markdown",
   "metadata": {},
   "source": [
    "5. Complete the fucntion `haar2D_pyramid` that recives an image and number of scales, and extract iteratively wavelet coefficients; at iteration indexed by $j$, select the sub-part of the signal containing $a_{j+1}$, and apply it the Haar operator.<br>\n",
    "Write a description of your function and explain its inputs and output."
   ]
  },
  {
   "cell_type": "code",
   "execution_count": null,
   "metadata": {},
   "outputs": [],
   "source": [
    "def haar2D_pyramid (img: np.ndarray, L: int) -> np.ndarray:\n",
    "    '''\n",
    "    Add your description and complete the inputs (params) and output (return).\n",
    "    \n",
    "    :param img: \n",
    "    :param L:\n",
    "    :return dwt_pyramid:\n",
    "    '''\n",
    "    # ====== YOUR CODE: ======\n",
    "\n",
    "    # ========================\n",
    "    return dwt_pyramid "
   ]
  },
  {
   "cell_type": "markdown",
   "metadata": {},
   "source": [
    "6. Apply $\\log_2(n)-1$ scales of Haar transorm on the image 'noisy_img.png' and display the result.  \n",
    "(Figure3 in the attached PDF is a representative example for the output where the number of scales is 2)"
   ]
  },
  {
   "cell_type": "code",
   "execution_count": null,
   "metadata": {},
   "outputs": [],
   "source": [
    "# ====== YOUR CODE: ======\n",
    "\n",
    "# ========================"
   ]
  },
  {
   "cell_type": "markdown",
   "metadata": {},
   "source": [
    "Having $\\log_2(n)-1$ scales of the image Haar transform, we need to remove the noise by setting coefficients below a given threshold to zero (hard thresholding). "
   ]
  },
  {
   "cell_type": "markdown",
   "metadata": {},
   "source": [
    "7. Complete the function `hard_thesh` that receives the coefficients matrix and threshold and sets coefficients below the given threshold to zero. <br>\n",
    "Write a description of your function and explain its inputs and output."
   ]
  },
  {
   "cell_type": "code",
   "execution_count": null,
   "metadata": {},
   "outputs": [],
   "source": [
    "def hard_thesh (haar: np.ndarray, thresh: float) -> np.ndarray:\n",
    "    '''\n",
    "    Add your description and complete the inputs (params) and output (return).\n",
    "    \n",
    "    :param haar: \n",
    "    :param thresh:\n",
    "    :return dwt_thersh:\n",
    "    '''\n",
    "    # ====== YOUR CODE: ======\n",
    "\n",
    "    # ========================\n",
    "    return dwt_thersh"
   ]
  },
  {
   "cell_type": "markdown",
   "metadata": {},
   "source": [
    "### Inverse Haar Transform"
   ]
  },
  {
   "cell_type": "markdown",
   "metadata": {},
   "source": [
    "Now, we need to get back to the image domain by applying the inverse 2-D Haar transform. "
   ]
  },
  {
   "cell_type": "markdown",
   "metadata": {},
   "source": [
    "The inverse transform computes a signal from a set of coefficients.<br>\n",
    "The inverse transform starts from $j=0$, and computes $a_{j+1}$ from the knowledge of $a_j,d_j$ by first inverting the horizontal 1-D transform, for all $k,\\ell = 0,\\ldots,2^j-1$,\n",
    "$$\\tilde a_{j}[k,2\\ell] = \\frac{ a_j[k,\\ell] + a_j^H[k,\\ell] }{\\sqrt{2}}$$ $$\\tilde a_{j}[k,2\\ell+1] = \\frac{ a_j[k,\\ell] - a_j^H[k,\\ell] }{\\sqrt{2}}$$ $$\\tilde d_{j}[k,2\\ell] = \\frac{ d_j^V[k,\\ell] + d_j^D[k,\\ell] }{\\sqrt{2}}$$ $$\\tilde d_{j}[k,2\\ell+1] = \\frac{ d_j^V[k,\\ell] - d_j^D[k,\\ell] }{\\sqrt{2}}$$"
   ]
  },
  {
   "cell_type": "markdown",
   "metadata": {},
   "source": [
    "8. Complete the function `ihaarV` that receives the coefficients matrix $a,d$ and returns the inverse Haar transform. <br>\n",
    "Write a description of your function and explain its inputs and output."
   ]
  },
  {
   "cell_type": "code",
   "execution_count": null,
   "metadata": {},
   "outputs": [],
   "source": [
    "def ihaarV (a: np.ndarray, d: np.ndarray)-> np.ndarray:\n",
    "    '''\n",
    "    Add your description and complete the inputs (params) and output (return).\n",
    "    \n",
    "    :param a: \n",
    "    :param d:\n",
    "    :return idwt_v:\n",
    "    '''\n",
    "    # ====== YOUR CODE: ======\n",
    "\n",
    "    # ======================== \n",
    "    return idwt_v"
   ]
  },
  {
   "cell_type": "markdown",
   "metadata": {},
   "source": [
    "Then one invert the vertical transform, for all $k = 0,\\ldots,2^j-1$ and for all $\\ell=0,\\ldots,2^{j+1}-1$ \n",
    "$$a_{j}[2k,\\ell] = \\frac{ \\tilde a_j[k,\\ell] + \\tilde d_j[k,\\ell] }{\\sqrt{2}}$$\n",
    "$$a_{j}[2k+1,\\ell] = \\frac{ \\tilde a_j[k,\\ell] - \\tilde d_j[k,\\ell] }{\\sqrt{2}}$$"
   ]
  },
  {
   "cell_type": "markdown",
   "metadata": {},
   "source": [
    "The inverse horizonal transformation can be done by using the function `ihaarV`. In order to apply the transformation horizontaly the input of the function will be the transposed coeffientens.<br>\n",
    "Run the function below. "
   ]
  },
  {
   "cell_type": "code",
   "execution_count": null,
   "metadata": {},
   "outputs": [],
   "source": [
    "def ihaarH (a,d):\n",
    "    return ihaarV (a.T, d.T).T"
   ]
  },
  {
   "cell_type": "markdown",
   "metadata": {},
   "source": [
    "9. Apply the inverse 2-D haar transform on the coefficients matrix. Use the functions `ihaarV` and `ihaarH`. \n",
    "Write a description of your function and explain its inputs and output."
   ]
  },
  {
   "cell_type": "code",
   "execution_count": null,
   "metadata": {},
   "outputs": [],
   "source": [
    "def ihaar2D (a: np.ndarray, dh: np.ndarray, dv: np.ndarray, dd: np.ndarray)-> np.ndarray:\n",
    "    '''\n",
    "    Add your description and complete the inputs (params) and output (return).\n",
    "    \n",
    "    :param a: \n",
    "    :param dh:\n",
    "    :param dv:\n",
    "    :param dd:\n",
    "    :return idwt_2d:\n",
    "    '''\n",
    "    # ====== YOUR CODE: ======\n",
    "\n",
    "    # ========================\n",
    "    return idwt_2d"
   ]
  },
  {
   "cell_type": "markdown",
   "metadata": {},
   "source": [
    "10. Complete the function `ihaar2D_pyramid` that receives the haar transform of an image and number of scales, and recover the image iteratively; at each iteration select the relevant coefficients and recover the signal using the inverse Haar transform.<br>  Write a description of your function and explain its inputs and output."
   ]
  },
  {
   "cell_type": "code",
   "execution_count": null,
   "metadata": {},
   "outputs": [],
   "source": [
    "def ihaar2D_pyramid (img_w: np.ndarray, L:int)-> np.ndarray:\n",
    "    '''\n",
    "    Add your description and complete the inputs (params) and output (return).\n",
    "    \n",
    "    :param img_w: \n",
    "    :param L:\n",
    "    :return rec_img:\n",
    "    '''\n",
    "    # ====== YOUR CODE: ======\n",
    "\n",
    "    # ========================\n",
    "    return rec_img"
   ]
  },
  {
   "cell_type": "markdown",
   "metadata": {},
   "source": [
    "11. Apply threshold on the output of the `haar2D_pyramid` function (Q6), and recover the image using the `ihaar2D_pyramid` function. Display the original noisy image and the cleaned image in one figure and add titles. "
   ]
  },
  {
   "cell_type": "code",
   "execution_count": null,
   "metadata": {
    "scrolled": false
   },
   "outputs": [],
   "source": [
    "# ====== YOUR CODE: ======\n",
    "\n",
    "# ========================"
   ]
  },
  {
   "cell_type": "markdown",
   "metadata": {},
   "source": [
    "----"
   ]
  },
  {
   "cell_type": "markdown",
   "metadata": {
    "id": "4RUjj_FPgku1"
   },
   "source": [
    "\n"
   ]
  }
 ],
 "metadata": {
  "colab": {
   "collapsed_sections": [
    "HPujGQ_KEe1v"
   ],
   "name": "bm336027_hmw5_.ipynb",
   "provenance": [
    {
     "file_id": "1P4bdKpETdAXN_HHpzdW-p0pkNwpbdx1b",
     "timestamp": 1614089744200
    }
   ]
  },
  "kernelspec": {
   "display_name": "Python 3 (ipykernel)",
   "language": "python",
   "name": "python3"
  },
  "language_info": {
   "codemirror_mode": {
    "name": "ipython",
    "version": 3
   },
   "file_extension": ".py",
   "mimetype": "text/x-python",
   "name": "python",
   "nbconvert_exporter": "python",
   "pygments_lexer": "ipython3",
   "version": "3.10.6"
  }
 },
 "nbformat": 4,
 "nbformat_minor": 4
}
